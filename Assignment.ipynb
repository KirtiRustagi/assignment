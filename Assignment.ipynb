{
 "cells": [
  {
   "cell_type": "code",
   "execution_count": 40,
   "metadata": {},
   "outputs": [],
   "source": [
    "import numpy as np\n",
    "import pandas as pd\n",
    "from math import radians, cos, sin, asin, sqrt"
   ]
  },
  {
   "cell_type": "code",
   "execution_count": 41,
   "metadata": {},
   "outputs": [],
   "source": [
    "Loc_df = pd.read_excel(\"Assignment_Python_Restaurant%20Order%20Management.xlsx\", sheet_name=\"Restaurant Location Details\")\n",
    "Boy_df = pd.read_excel(\"Assignment_Python_Restaurant%20Order%20Management.xlsx\", sheet_name=\"Delivery Boy Details\")\n",
    "Ord_df = pd.read_excel(\"Assignment_Python_Restaurant%20Order%20Management.xlsx\", sheet_name=\"Upcoming Orders\")"
   ]
  },
  {
   "cell_type": "code",
   "execution_count": 42,
   "metadata": {},
   "outputs": [],
   "source": [
    "#coordinates to distance in km \n",
    "def distance(lat1, lat2, lon1, lon2): \n",
    "      \n",
    "    # The math module contains a function named \n",
    "    # radians which converts from degrees to radians. \n",
    "    lon1 = radians(lon1) \n",
    "    lon2 = radians(lon2) \n",
    "    lat1 = radians(lat1) \n",
    "    lat2 = radians(lat2) \n",
    "       \n",
    "    # Haversine formula  \n",
    "    dlon = lon2 - lon1  \n",
    "    dlat = lat2 - lat1 \n",
    "    a = sin(dlat / 2)**2 + cos(lat1) * cos(lat2) * sin(dlon / 2)**2\n",
    "  \n",
    "    c = 2 * asin(sqrt(a))  \n",
    "     \n",
    "    # Radius of earth in kilometers. Use 3956 for miles \n",
    "    r = 6371\n",
    "       \n",
    "    # calculate the result \n",
    "    return(c * r) "
   ]
  },
  {
   "cell_type": "code",
   "execution_count": 54,
   "metadata": {},
   "outputs": [],
   "source": [
    "#minimum distance between customer and restaurant and its index\n",
    "def distance_min1(lat, lon):\n",
    "    distance_list = []\n",
    "    for i in range(Loc_df[\"Location Name\"].count()):\n",
    "        distance_list.append(distance(Loc_df[\"Latitude\"][i],lat,Loc_df[\"Longitute\"][i],lon))\n",
    "    return distance_list.index(min(distance_list)), min(distance_list)"
   ]
  },
  {
   "cell_type": "code",
   "execution_count": 55,
   "metadata": {},
   "outputs": [],
   "source": [
    "Boy_df[\"Latitude\"] = 28.603784\n",
    "Boy_df[\"Longitute\"] = 77.056973"
   ]
  },
  {
   "cell_type": "code",
   "execution_count": 56,
   "metadata": {},
   "outputs": [],
   "source": [
    "#minimum distance between del boy and restaurant and its index\n",
    "def choosing_del_boy(lat, lon):\n",
    "    distance_list = []\n",
    "    for i in range(Boy_df[\"Name\"].count()):\n",
    "        distance_list.append(distance(Boy_df[\"Latitude\"][i],lat,Boy_df[\"Longitute\"][i],lon))\n",
    "    return distance_list.index(min(distance_list)), min(distance_list)"
   ]
  },
  {
   "cell_type": "code",
   "execution_count": null,
   "metadata": {},
   "outputs": [],
   "source": []
  }
 ],
 "metadata": {
  "kernelspec": {
   "display_name": "Python 3",
   "language": "python",
   "name": "python3"
  },
  "language_info": {
   "codemirror_mode": {
    "name": "ipython",
    "version": 3
   },
   "file_extension": ".py",
   "mimetype": "text/x-python",
   "name": "python",
   "nbconvert_exporter": "python",
   "pygments_lexer": "ipython3",
   "version": "3.8.3"
  }
 },
 "nbformat": 4,
 "nbformat_minor": 4
}
